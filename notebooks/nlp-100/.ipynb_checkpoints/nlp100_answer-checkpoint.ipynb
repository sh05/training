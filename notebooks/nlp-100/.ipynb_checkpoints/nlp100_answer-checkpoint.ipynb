{
 "cells": [
  {
   "cell_type": "code",
   "execution_count": 24,
   "metadata": {},
   "outputs": [
    {
     "data": {
      "text/plain": [
       "'desserts'"
      ]
     },
     "execution_count": 24,
     "metadata": {},
     "output_type": "execute_result"
    }
   ],
   "source": [
    "## 0\n",
    "smt = \"stressed\"\n",
    "tmp = \"\"\n",
    "for i in range(1, len(\"stressed\") + 1):\n",
    "    tmp += smt[-i]\n",
    "tmp "
   ]
  },
  {
   "cell_type": "code",
   "execution_count": 25,
   "metadata": {},
   "outputs": [
    {
     "data": {
      "text/plain": [
       "'desserts'"
      ]
     },
     "execution_count": 25,
     "metadata": {},
     "output_type": "execute_result"
    }
   ],
   "source": [
    "smt[::-1]"
   ]
  },
  {
   "cell_type": "code",
   "execution_count": 50,
   "metadata": {},
   "outputs": [
    {
     "data": {
      "text/plain": [
       "'パトカー'"
      ]
     },
     "execution_count": 50,
     "metadata": {},
     "output_type": "execute_result"
    }
   ],
   "source": [
    "## 1\n",
    "smt = \"パタトクカシーー\"\n",
    "''.join([smt[i] for i in range(len(smt)) if i % 2==0])"
   ]
  },
  {
   "cell_type": "code",
   "execution_count": 51,
   "metadata": {},
   "outputs": [
    {
     "data": {
      "text/plain": [
       "'パトカー'"
      ]
     },
     "execution_count": 51,
     "metadata": {},
     "output_type": "execute_result"
    }
   ],
   "source": [
    "smt = \"パタトクカシーー\"\n",
    "smt[::2]"
   ]
  },
  {
   "cell_type": "code",
   "execution_count": 40,
   "metadata": {},
   "outputs": [
    {
     "data": {
      "text/plain": [
       "'パタトクカシーー'"
      ]
     },
     "execution_count": 40,
     "metadata": {},
     "output_type": "execute_result"
    }
   ],
   "source": [
    "## 2\n",
    "smt1 = \"パトカー\"\n",
    "smt2 = \"タクシー\"\n",
    "comb = \"\"\n",
    "for p, t in zip(smt1, smt2):\n",
    "    comb += p + t\n",
    "comb"
   ]
  },
  {
   "cell_type": "code",
   "execution_count": 60,
   "metadata": {},
   "outputs": [
    {
     "data": {
      "text/plain": [
       "[3, 1, 4, 1, 5, 9, 2, 6, 5, 3, 5, 8, 9, 7, 9]"
      ]
     },
     "execution_count": 60,
     "metadata": {},
     "output_type": "execute_result"
    }
   ],
   "source": [
    "## 3\n",
    "smt = \"Now I need a drink, alcoholic of course, after the heavy lectures involving quantum mechanics.\"\n",
    "[len(w) - w.count(',') - w.count('.') for w in smt.split(' ')]"
   ]
  },
  {
   "cell_type": "code",
   "execution_count": 59,
   "metadata": {},
   "outputs": [
    {
     "data": {
      "text/plain": [
       "{1: 'H',\n",
       " 2: 'He',\n",
       " 3: 'Li',\n",
       " 4: 'Be',\n",
       " 5: 'B',\n",
       " 6: 'C',\n",
       " 7: 'N',\n",
       " 8: 'O',\n",
       " 9: 'F',\n",
       " 10: 'Ne',\n",
       " 11: 'Na',\n",
       " 12: 'Mi',\n",
       " 13: 'Al',\n",
       " 14: 'Si',\n",
       " 15: 'P',\n",
       " 16: 'S',\n",
       " 17: 'Cl',\n",
       " 18: 'Ar',\n",
       " 19: 'K',\n",
       " 20: 'Ca'}"
      ]
     },
     "execution_count": 59,
     "metadata": {},
     "output_type": "execute_result"
    }
   ],
   "source": [
    "## 4\n",
    "smt = \"Hi He Lied Because Boron Could Not Oxidize Fluorine. New Nations Might Also Sign Peace Security Clause. Arthur King Can.\"\n",
    "dic = {}\n",
    "target_index = [1, 5, 6, 7, 8, 9, 15, 16, 19]\n",
    "for i, w in enumerate(smt.split(' ')):\n",
    "    if i + 1 in target_index:\n",
    "        dic[i + 1] = w[0]\n",
    "    else:\n",
    "        dic[i + 1] = w[:2]\n",
    "dic    "
   ]
  },
  {
   "cell_type": "code",
   "execution_count": 77,
   "metadata": {},
   "outputs": [
    {
     "data": {
      "text/plain": [
       "(['I a', ' am', 'am ', 'm a', ' an', 'an ', 'n N', ' NL', 'NLP', 'LPe', 'Per'],\n",
       " [['I', 'am', 'an'], ['am', 'an', 'NLPer']])"
      ]
     },
     "execution_count": 77,
     "metadata": {},
     "output_type": "execute_result"
    }
   ],
   "source": [
    "## 5\n",
    "def get_n_gram(n, smt):\n",
    "    words = smt.split(' ')\n",
    "    n_words_list = []\n",
    "    n_letters_list = []\n",
    "    for i in range(len(smt) - n + 1):\n",
    "        n_letters_list.append(smt[i:i+n])\n",
    "    for i in range(len(words) -n + 1):\n",
    "        n_words_list.append(words[i:i+n])\n",
    "    return n_letters_list, n_words_list\n",
    "\n",
    "get_n_gram(3, \"I am an NLPer\")"
   ]
  },
  {
   "cell_type": "code",
   "execution_count": 84,
   "metadata": {},
   "outputs": [
    {
     "name": "stdout",
     "output_type": "stream",
     "text": [
      "{'is', 'ag', 'ra', 'ph', 'ar', 'gr', 'se', 'ad', 'ap', 'pa', 'di'}\n",
      "{'ra', 'ap', 'pa', 'ar'}\n",
      "{'se', 'is', 'ad', 'di'}\n",
      "False\n",
      "True\n"
     ]
    }
   ],
   "source": [
    "## 6\n",
    "smt1 = \"paraparaparadise\"\n",
    "smt2 = \"paragraph\"\n",
    "X = set()\n",
    "for i in range(len(smt1) - 2 + 1):\n",
    "    X.add(smt1[i:i+2])\n",
    "Y = set()\n",
    "for i in range(len(smt2) - 2 + 1):\n",
    "    Y.add(smt2[i:i+2])\n",
    "    \n",
    "print(X | Y)\n",
    "print(X & Y)\n",
    "print(X - Y)\n",
    "print('se' in (X and Y))\n",
    "print('se' in (X or Y))"
   ]
  },
  {
   "cell_type": "code",
   "execution_count": 85,
   "metadata": {},
   "outputs": [
    {
     "data": {
      "text/plain": [
       "'12時の気温は22.4'"
      ]
     },
     "execution_count": 85,
     "metadata": {},
     "output_type": "execute_result"
    }
   ],
   "source": [
    "## 7\n",
    "def get_template(x, y, z):\n",
    "    return \"{}時の{}は{}\".format(x, y, z)\n",
    "\n",
    "get_template(12, '気温', 22.4)"
   ]
  },
  {
   "cell_type": "code",
   "execution_count": 102,
   "metadata": {},
   "outputs": [
    {
     "name": "stdout",
     "output_type": "stream",
     "text": [
      "I couldn't believe that\n",
      "I xlfowm'g yvorvev gszg\n",
      "I couldn't believe that\n"
     ]
    }
   ],
   "source": [
    "## 8\n",
    "class Coder:\n",
    "    def __init__():\n",
    "        pass\n",
    "    \n",
    "    def encode(smt):\n",
    "        code = \"\"\n",
    "        for i in range(len(smt)):\n",
    "            if smt[i] .isalpha() and smt[i].islower():\n",
    "                code += chr(219 - ord(smt[i]))\n",
    "            else:\n",
    "                code += smt[i]\n",
    "        return code\n",
    "    \n",
    "    def decode(code):\n",
    "        stm = \"\"\n",
    "        for i in range(len(code)):\n",
    "            if code[i] .isalpha() and code[i].islower():\n",
    "                smt += chr(219 - ord(code[i]))\n",
    "            else:\n",
    "                smt += code[i]\n",
    "        return smt\n",
    "\n",
    "coder = Coder\n",
    "smt =  \"I couldn't believe that\"\n",
    "code = coder.encode(smt)\n",
    "desmt = coder.encode(code)\n",
    "print(smt)\n",
    "print(code)\n",
    "print(desmt)"
   ]
  },
  {
   "cell_type": "code",
   "execution_count": 123,
   "metadata": {},
   "outputs": [
    {
     "data": {
      "text/plain": [
       "\"I c'uolndt bveelie that I cuold atulcaly unrndasted what I was riedang : the ponmeenhal peowr of the hamun mind .\""
      ]
     },
     "execution_count": 123,
     "metadata": {},
     "output_type": "execute_result"
    }
   ],
   "source": [
    "## 9\n",
    "import random\n",
    "def feel_typoglycemia(smt):\n",
    "    typogly = []\n",
    "    for w in smt.split(' '):\n",
    "        if len(w) <= 4:\n",
    "            typogly.append(w)\n",
    "        else:\n",
    "            mid = list(w)[1:-1]\n",
    "            random.shuffle(mid)\n",
    "            typogly.append(w[0] + ''.join(mid) + w[-1])\n",
    "    return typogly\n",
    "\n",
    "            \n",
    "smt = \"I couldn't believe that I could actually understand what I was reading : the phenomenal power of the human mind .\"\n",
    "' '.join(feel_typoglycemia(smt))"
   ]
  }
 ],
 "metadata": {
  "kernelspec": {
   "display_name": "Python 3",
   "language": "python",
   "name": "python3"
  },
  "language_info": {
   "codemirror_mode": {
    "name": "ipython",
    "version": 3
   },
   "file_extension": ".py",
   "mimetype": "text/x-python",
   "name": "python",
   "nbconvert_exporter": "python",
   "pygments_lexer": "ipython3",
   "version": "3.7.1"
  }
 },
 "nbformat": 4,
 "nbformat_minor": 2
}
