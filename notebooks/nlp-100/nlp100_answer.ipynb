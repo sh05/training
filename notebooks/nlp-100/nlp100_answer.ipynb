{
 "cells": [
  {
   "cell_type": "code",
   "execution_count": 24,
   "metadata": {},
   "outputs": [
    {
     "data": {
      "text/plain": [
       "'desserts'"
      ]
     },
     "execution_count": 24,
     "metadata": {},
     "output_type": "execute_result"
    }
   ],
   "source": [
    "## 0\n",
    "smt = \"stressed\"\n",
    "tmp = \"\"\n",
    "for i in range(1, len(\"stressed\") + 1):\n",
    "    tmp += smt[-i]\n",
    "tmp "
   ]
  },
  {
   "cell_type": "code",
   "execution_count": 25,
   "metadata": {},
   "outputs": [
    {
     "data": {
      "text/plain": [
       "'desserts'"
      ]
     },
     "execution_count": 25,
     "metadata": {},
     "output_type": "execute_result"
    }
   ],
   "source": [
    "smt[::-1]"
   ]
  },
  {
   "cell_type": "code",
   "execution_count": 50,
   "metadata": {},
   "outputs": [
    {
     "data": {
      "text/plain": [
       "'パトカー'"
      ]
     },
     "execution_count": 50,
     "metadata": {},
     "output_type": "execute_result"
    }
   ],
   "source": [
    "## 1\n",
    "smt = \"パタトクカシーー\"\n",
    "''.join([smt[i] for i in range(len(smt)) if i % 2==0])"
   ]
  },
  {
   "cell_type": "code",
   "execution_count": 51,
   "metadata": {},
   "outputs": [
    {
     "data": {
      "text/plain": [
       "'パトカー'"
      ]
     },
     "execution_count": 51,
     "metadata": {},
     "output_type": "execute_result"
    }
   ],
   "source": [
    "smt = \"パタトクカシーー\"\n",
    "smt[::2]"
   ]
  },
  {
   "cell_type": "code",
   "execution_count": 40,
   "metadata": {},
   "outputs": [
    {
     "data": {
      "text/plain": [
       "'パタトクカシーー'"
      ]
     },
     "execution_count": 40,
     "metadata": {},
     "output_type": "execute_result"
    }
   ],
   "source": [
    "## 2\n",
    "smt1 = \"パトカー\"\n",
    "smt2 = \"タクシー\"\n",
    "comb = \"\"\n",
    "for p, t in zip(smt1, smt2):\n",
    "    comb += p + t\n",
    "comb"
   ]
  },
  {
   "cell_type": "code",
   "execution_count": 60,
   "metadata": {},
   "outputs": [
    {
     "data": {
      "text/plain": [
       "[3, 1, 4, 1, 5, 9, 2, 6, 5, 3, 5, 8, 9, 7, 9]"
      ]
     },
     "execution_count": 60,
     "metadata": {},
     "output_type": "execute_result"
    }
   ],
   "source": [
    "## 3\n",
    "smt = \"Now I need a drink, alcoholic of course, after the heavy lectures involving quantum mechanics.\"\n",
    "[len(w) - w.count(',') - w.count('.') for w in smt.split(' ')]"
   ]
  },
  {
   "cell_type": "code",
   "execution_count": 59,
   "metadata": {},
   "outputs": [
    {
     "data": {
      "text/plain": [
       "{1: 'H',\n",
       " 2: 'He',\n",
       " 3: 'Li',\n",
       " 4: 'Be',\n",
       " 5: 'B',\n",
       " 6: 'C',\n",
       " 7: 'N',\n",
       " 8: 'O',\n",
       " 9: 'F',\n",
       " 10: 'Ne',\n",
       " 11: 'Na',\n",
       " 12: 'Mi',\n",
       " 13: 'Al',\n",
       " 14: 'Si',\n",
       " 15: 'P',\n",
       " 16: 'S',\n",
       " 17: 'Cl',\n",
       " 18: 'Ar',\n",
       " 19: 'K',\n",
       " 20: 'Ca'}"
      ]
     },
     "execution_count": 59,
     "metadata": {},
     "output_type": "execute_result"
    }
   ],
   "source": [
    "## 4\n",
    "smt = \"Hi He Lied Because Boron Could Not Oxidize Fluorine. New Nations Might Also Sign Peace Security Clause. Arthur King Can.\"\n",
    "dic = {}\n",
    "target_index = [1, 5, 6, 7, 8, 9, 15, 16, 19]\n",
    "for i, w in enumerate(smt.split(' ')):\n",
    "    if i + 1 in target_index:\n",
    "        dic[i + 1] = w[0]\n",
    "    else:\n",
    "        dic[i + 1] = w[:2]\n",
    "dic    "
   ]
  },
  {
   "cell_type": "code",
   "execution_count": 77,
   "metadata": {},
   "outputs": [
    {
     "data": {
      "text/plain": [
       "(['I a', ' am', 'am ', 'm a', ' an', 'an ', 'n N', ' NL', 'NLP', 'LPe', 'Per'],\n",
       " [['I', 'am', 'an'], ['am', 'an', 'NLPer']])"
      ]
     },
     "execution_count": 77,
     "metadata": {},
     "output_type": "execute_result"
    }
   ],
   "source": [
    "## 5\n",
    "def get_n_gram(n, smt):\n",
    "    words = smt.split(' ')\n",
    "    n_words_list = []\n",
    "    n_letters_list = []\n",
    "    for i in range(len(smt) - n + 1):\n",
    "        n_letters_list.append(smt[i:i+n])\n",
    "    for i in range(len(words) -n + 1):\n",
    "        n_words_list.append(words[i:i+n])\n",
    "    return n_letters_list, n_words_list\n",
    "\n",
    "get_n_gram(3, \"I am an NLPer\")"
   ]
  },
  {
   "cell_type": "code",
   "execution_count": 84,
   "metadata": {},
   "outputs": [
    {
     "name": "stdout",
     "output_type": "stream",
     "text": [
      "{'is', 'ag', 'ra', 'ph', 'ar', 'gr', 'se', 'ad', 'ap', 'pa', 'di'}\n",
      "{'ra', 'ap', 'pa', 'ar'}\n",
      "{'se', 'is', 'ad', 'di'}\n",
      "False\n",
      "True\n"
     ]
    }
   ],
   "source": [
    "## 6\n",
    "smt1 = \"paraparaparadise\"\n",
    "smt2 = \"paragraph\"\n",
    "X = set()\n",
    "for i in range(len(smt1) - 2 + 1):\n",
    "    X.add(smt1[i:i+2])\n",
    "Y = set()\n",
    "for i in range(len(smt2) - 2 + 1):\n",
    "    Y.add(smt2[i:i+2])\n",
    "    \n",
    "print(X | Y)\n",
    "print(X & Y)\n",
    "print(X - Y)\n",
    "print('se' in (X and Y))\n",
    "print('se' in (X or Y))"
   ]
  },
  {
   "cell_type": "code",
   "execution_count": 85,
   "metadata": {},
   "outputs": [
    {
     "data": {
      "text/plain": [
       "'12時の気温は22.4'"
      ]
     },
     "execution_count": 85,
     "metadata": {},
     "output_type": "execute_result"
    }
   ],
   "source": [
    "## 7\n",
    "def get_template(x, y, z):\n",
    "    return \"{}時の{}は{}\".format(x, y, z)\n",
    "\n",
    "get_template(12, '気温', 22.4)"
   ]
  },
  {
   "cell_type": "code",
   "execution_count": 102,
   "metadata": {},
   "outputs": [
    {
     "name": "stdout",
     "output_type": "stream",
     "text": [
      "I couldn't believe that\n",
      "I xlfowm'g yvorvev gszg\n",
      "I couldn't believe that\n"
     ]
    }
   ],
   "source": [
    "## 8\n",
    "class Coder:\n",
    "    def __init__():\n",
    "        pass\n",
    "    \n",
    "    def encode(smt):\n",
    "        code = \"\"\n",
    "        for i in range(len(smt)):\n",
    "            if smt[i] .isalpha() and smt[i].islower():\n",
    "                code += chr(219 - ord(smt[i]))\n",
    "            else:\n",
    "                code += smt[i]\n",
    "        return code\n",
    "    \n",
    "    def decode(code):\n",
    "        stm = \"\"\n",
    "        for i in range(len(code)):\n",
    "            if code[i] .isalpha() and code[i].islower():\n",
    "                smt += chr(219 - ord(code[i]))\n",
    "            else:\n",
    "                smt += code[i]\n",
    "        return smt\n",
    "\n",
    "coder = Coder\n",
    "smt =  \"I couldn't believe that\"\n",
    "code = coder.encode(smt)\n",
    "desmt = coder.encode(code)\n",
    "print(smt)\n",
    "print(code)\n",
    "print(desmt)"
   ]
  },
  {
   "cell_type": "code",
   "execution_count": 123,
   "metadata": {},
   "outputs": [
    {
     "data": {
      "text/plain": [
       "\"I c'uolndt bveelie that I cuold atulcaly unrndasted what I was riedang : the ponmeenhal peowr of the hamun mind .\""
      ]
     },
     "execution_count": 123,
     "metadata": {},
     "output_type": "execute_result"
    }
   ],
   "source": [
    "## 9\n",
    "import random\n",
    "def feel_typoglycemia(smt):\n",
    "    typogly = []\n",
    "    for w in smt.split(' '):\n",
    "        if len(w) <= 4:\n",
    "            typogly.append(w)\n",
    "        else:\n",
    "            mid = list(w)[1:-1]\n",
    "            random.shuffle(mid)\n",
    "            typogly.append(w[0] + ''.join(mid) + w[-1])\n",
    "    return typogly\n",
    "\n",
    "            \n",
    "smt = \"I couldn't believe that I could actually understand what I was reading : the phenomenal power of the human mind .\"\n",
    "' '.join(feel_typoglycemia(smt))"
   ]
  },
  {
   "cell_type": "code",
   "execution_count": 126,
   "metadata": {},
   "outputs": [
    {
     "name": "stdout",
     "output_type": "stream",
     "text": [
      "24\r\n"
     ]
    }
   ],
   "source": [
    "## 10\n",
    "!cat hightemp.txt | wc -l"
   ]
  },
  {
   "cell_type": "code",
   "execution_count": 129,
   "metadata": {},
   "outputs": [
    {
     "name": "stdout",
     "output_type": "stream",
     "text": [
      "高知県 江川崎 41 2013-08-12\r\n",
      "埼玉県 熊谷 40.9 2007-08-16\r\n",
      "岐阜県 多治見 40.9 2007-08-16\r\n",
      "山形県 山形 40.8 1933-07-25\r\n",
      "山梨県 甲府 40.7 2013-08-10\r\n",
      "和歌山県 かつらぎ 40.6 1994-08-08\r\n",
      "静岡県 天竜 40.6 1994-08-04\r\n",
      "山梨県 勝沼 40.5 2013-08-10\r\n",
      "埼玉県 越谷 40.4 2007-08-16\r\n",
      "群馬県 館林 40.3 2007-08-16\r\n",
      "群馬県 上里見 40.3 1998-07-04\r\n",
      "愛知県 愛西 40.3 1994-08-05\r\n",
      "千葉県 牛久 40.2 2004-07-20\r\n",
      "静岡県 佐久間 40.2 2001-07-24\r\n",
      "愛媛県 宇和島 40.2 1927-07-22\r\n",
      "山形県 酒田 40.1 1978-08-03\r\n",
      "岐阜県 美濃 40 2007-08-16\r\n",
      "群馬県 前橋 40 2001-07-24\r\n",
      "千葉県 茂原 39.9 2013-08-11\r\n",
      "埼玉県 鳩山 39.9 1997-07-05\r\n",
      "大阪府 豊中 39.9 1994-08-08\r\n",
      "山梨県 大月 39.9 1990-07-19\r\n",
      "山形県 鶴岡 39.9 1978-08-03\r\n",
      "愛知県 名古屋 39.9 1942-08-02\r\n"
     ]
    }
   ],
   "source": [
    "## 11\n",
    "!cat hightemp.txt | sed \"s/\\t/\\ /g\""
   ]
  },
  {
   "cell_type": "code",
   "execution_count": 132,
   "metadata": {},
   "outputs": [
    {
     "name": "stdout",
     "output_type": "stream",
     "text": [
      "高知県 江川崎 41 2013-08-12\r\n",
      "埼玉県 熊谷 40.9 2007-08-16\r\n",
      "岐阜県 多治見 40.9 2007-08-16\r\n",
      "山形県 山形 40.8 1933-07-25\r\n",
      "山梨県 甲府 40.7 2013-08-10\r\n",
      "和歌山県 かつらぎ 40.6 1994-08-08\r\n",
      "静岡県 天竜 40.6 1994-08-04\r\n",
      "山梨県 勝沼 40.5 2013-08-10\r\n",
      "埼玉県 越谷 40.4 2007-08-16\r\n",
      "群馬県 館林 40.3 2007-08-16\r\n",
      "群馬県 上里見 40.3 1998-07-04\r\n",
      "愛知県 愛西 40.3 1994-08-05\r\n",
      "千葉県 牛久 40.2 2004-07-20\r\n",
      "静岡県 佐久間 40.2 2001-07-24\r\n",
      "愛媛県 宇和島 40.2 1927-07-22\r\n",
      "山形県 酒田 40.1 1978-08-03\r\n",
      "岐阜県 美濃 40 2007-08-16\r\n",
      "群馬県 前橋 40 2001-07-24\r\n",
      "千葉県 茂原 39.9 2013-08-11\r\n",
      "埼玉県 鳩山 39.9 1997-07-05\r\n",
      "大阪府 豊中 39.9 1994-08-08\r\n",
      "山梨県 大月 39.9 1990-07-19\r\n",
      "山形県 鶴岡 39.9 1978-08-03\r\n",
      "愛知県 名古屋 39.9 1942-08-02\r\n"
     ]
    }
   ],
   "source": [
    "!cat hightemp.txt | tr \"\\t\" \"\\ \""
   ]
  },
  {
   "cell_type": "code",
   "execution_count": 135,
   "metadata": {},
   "outputs": [
    {
     "name": "stdout",
     "output_type": "stream",
     "text": [
      "高知県 江川崎 41 2013-08-12\r\n",
      "埼玉県 熊谷 40.9 2007-08-16\r\n",
      "岐阜県 多治見 40.9 2007-08-16\r\n",
      "山形県 山形 40.8 1933-07-25\r\n",
      "山梨県 甲府 40.7 2013-08-10\r\n",
      "和歌山県 かつらぎ 40.6 1994-08-08\r\n",
      "静岡県 天竜 40.6 1994-08-04\r\n",
      "山梨県 勝沼 40.5 2013-08-10\r\n",
      "埼玉県 越谷 40.4 2007-08-16\r\n",
      "群馬県 館林 40.3 2007-08-16\r\n",
      "群馬県 上里見 40.3 1998-07-04\r\n",
      "愛知県 愛西 40.3 1994-08-05\r\n",
      "千葉県 牛久 40.2 2004-07-20\r\n",
      "静岡県 佐久間 40.2 2001-07-24\r\n",
      "愛媛県 宇和島 40.2 1927-07-22\r\n",
      "山形県 酒田 40.1 1978-08-03\r\n",
      "岐阜県 美濃 40 2007-08-16\r\n",
      "群馬県 前橋 40 2001-07-24\r\n",
      "千葉県 茂原 39.9 2013-08-11\r\n",
      "埼玉県 鳩山 39.9 1997-07-05\r\n",
      "大阪府 豊中 39.9 1994-08-08\r\n",
      "山梨県 大月 39.9 1990-07-19\r\n",
      "山形県 鶴岡 39.9 1978-08-03\r\n",
      "愛知県 名古屋 39.9 1942-08-02\r\n"
     ]
    }
   ],
   "source": [
    "!expand -t 1 hightemp.txt"
   ]
  },
  {
   "cell_type": "code",
   "execution_count": 147,
   "metadata": {},
   "outputs": [],
   "source": [
    "## 12\n",
    "!cat hightemp.txt | sed \"s/\\t/\\ /g\" | cut -f 1 -d \" \" > col1.txt\n",
    "!cat hightemp.txt | sed \"s/\\t/\\ /g\" | cut -f 2 -d \" \" > col2.txt"
   ]
  },
  {
   "cell_type": "code",
   "execution_count": 150,
   "metadata": {},
   "outputs": [],
   "source": [
    "## 13\n",
    "!paste col1.txt col2.txt > cols.txt"
   ]
  },
  {
   "cell_type": "code",
   "execution_count": 152,
   "metadata": {},
   "outputs": [
    {
     "name": "stdout",
     "output_type": "stream",
     "text": [
      "高知県\t江川崎\t41\t2013-08-12\r\n",
      "埼玉県\t熊谷\t40.9\t2007-08-16\r\n",
      "岐阜県\t多治見\t40.9\t2007-08-16\r\n",
      "山形県\t山形\t40.8\t1933-07-25\r\n",
      "山梨県\t甲府\t40.7\t2013-08-10\r\n"
     ]
    }
   ],
   "source": [
    "## 14\n",
    "!head -n 5 hightemp.txt"
   ]
  },
  {
   "cell_type": "code",
   "execution_count": 153,
   "metadata": {},
   "outputs": [
    {
     "name": "stdout",
     "output_type": "stream",
     "text": [
      "埼玉県\t鳩山\t39.9\t1997-07-05\r\n",
      "大阪府\t豊中\t39.9\t1994-08-08\r\n",
      "山梨県\t大月\t39.9\t1990-07-19\r\n",
      "山形県\t鶴岡\t39.9\t1978-08-03\r\n",
      "愛知県\t名古屋\t39.9\t1942-08-02\r\n"
     ]
    }
   ],
   "source": [
    "## 15\n",
    "!tail -n 5 hightemp.txt"
   ]
  },
  {
   "cell_type": "code",
   "execution_count": 157,
   "metadata": {},
   "outputs": [],
   "source": [
    "## 16\n",
    "!split -n 2 hightemp.txt"
   ]
  },
  {
   "cell_type": "code",
   "execution_count": 167,
   "metadata": {
    "scrolled": true
   },
   "outputs": [
    {
     "name": "stdout",
     "output_type": "stream",
     "text": [
      "千葉県\r\n",
      "和歌山県\r\n",
      "埼玉県\r\n",
      "大阪府\r\n",
      "山形県\r\n",
      "山梨県\r\n",
      "岐阜県\r\n",
      "愛媛県\r\n",
      "愛知県\r\n",
      "群馬県\r\n",
      "静岡県\r\n",
      "高知県\r\n"
     ]
    }
   ],
   "source": [
    "## 17\n",
    "!cat hightemp.txt | sed \"s/\\t/\\ /g\" | cut -f 1 -d \" \"  | sort | uniq"
   ]
  },
  {
   "cell_type": "code",
   "execution_count": 174,
   "metadata": {
    "scrolled": false
   },
   "outputs": [
    {
     "name": "stdout",
     "output_type": "stream",
     "text": [
      "愛知県 名古屋 39.9 1942-08-02\r\n",
      "山形県 鶴岡 39.9 1978-08-03\r\n",
      "山梨県 大月 39.9 1990-07-19\r\n",
      "大阪府 豊中 39.9 1994-08-08\r\n",
      "埼玉県 鳩山 39.9 1997-07-05\r\n",
      "千葉県 茂原 39.9 2013-08-11\r\n",
      "群馬県 前橋 40 2001-07-24\r\n",
      "岐阜県 美濃 40 2007-08-16\r\n",
      "山形県 酒田 40.1 1978-08-03\r\n",
      "愛媛県 宇和島 40.2 1927-07-22\r\n",
      "静岡県 佐久間 40.2 2001-07-24\r\n",
      "千葉県 牛久 40.2 2004-07-20\r\n",
      "愛知県 愛西 40.3 1994-08-05\r\n",
      "群馬県 上里見 40.3 1998-07-04\r\n",
      "群馬県 館林 40.3 2007-08-16\r\n",
      "埼玉県 越谷 40.4 2007-08-16\r\n",
      "山梨県 勝沼 40.5 2013-08-10\r\n",
      "静岡県 天竜 40.6 1994-08-04\r\n",
      "和歌山県 かつらぎ 40.6 1994-08-08\r\n",
      "山梨県 甲府 40.7 2013-08-10\r\n",
      "山形県 山形 40.8 1933-07-25\r\n",
      "埼玉県 熊谷 40.9 2007-08-16\r\n",
      "岐阜県 多治見 40.9 2007-08-16\r\n",
      "高知県 江川崎 41 2013-08-12\r\n"
     ]
    }
   ],
   "source": [
    "## 18\n",
    "!cat hightemp.txt | sed \"s/\\t/\\ /g\" | sort -k 3 -t \" \""
   ]
  },
  {
   "cell_type": "code",
   "execution_count": 182,
   "metadata": {},
   "outputs": [
    {
     "name": "stdout",
     "output_type": "stream",
     "text": [
      "      3 群馬県\r\n",
      "      3 山梨県\r\n",
      "      3 山形県\r\n",
      "      3 埼玉県\r\n",
      "      2 静岡県\r\n",
      "      2 愛知県\r\n",
      "      2 岐阜県\r\n",
      "      2 千葉県\r\n",
      "      1 高知県\r\n",
      "      1 愛媛県\r\n",
      "      1 大阪府\r\n",
      "      1 和歌山県\r\n"
     ]
    }
   ],
   "source": [
    "## 19\n",
    "!cat hightemp.txt | sed \"s/\\t/\\ /g\" | cut -f 1 -d \" \" | sort  | uniq -c | sort -rn -k 3 -t \" \""
   ]
  }
 ],
 "metadata": {
  "kernelspec": {
   "display_name": "Python 3",
   "language": "python",
   "name": "python3"
  },
  "language_info": {
   "codemirror_mode": {
    "name": "ipython",
    "version": 3
   },
   "file_extension": ".py",
   "mimetype": "text/x-python",
   "name": "python",
   "nbconvert_exporter": "python",
   "pygments_lexer": "ipython3",
   "version": "3.7.1"
  }
 },
 "nbformat": 4,
 "nbformat_minor": 2
}
